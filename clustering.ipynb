{
 "cells": [
  {
   "cell_type": "markdown",
   "id": "4ca5be7e",
   "metadata": {},
   "source": [
    "### Importing and Initial Preping of Data"
   ]
  },
  {
   "cell_type": "code",
   "execution_count": 17,
   "id": "2e0d3ec3",
   "metadata": {},
   "outputs": [],
   "source": [
    "import numpy as np\n",
    "import pandas as pd\n",
    "from matplotlib import pyplot as plt\n",
    "import seaborn as sns\n",
    "import numpy as np\n",
    "from sklearn.preprocessing import StandardScaler\n",
    "from sklearn import metrics"
   ]
  },
  {
   "cell_type": "code",
   "execution_count": 18,
   "id": "01124751",
   "metadata": {},
   "outputs": [],
   "source": [
    "sc=StandardScaler()"
   ]
  },
  {
   "cell_type": "code",
   "execution_count": 19,
   "id": "7bc0a5ec",
   "metadata": {},
   "outputs": [],
   "source": [
    "bf=data = pd.read_csv('BlackFridaySalesResized.csv')"
   ]
  },
  {
   "cell_type": "code",
   "execution_count": 20,
   "id": "41c67255",
   "metadata": {},
   "outputs": [
    {
     "name": "stdout",
     "output_type": "stream",
     "text": [
      "<class 'pandas.core.frame.DataFrame'>\n",
      "RangeIndex: 159999 entries, 0 to 159998\n",
      "Data columns (total 12 columns):\n",
      " #   Column                      Non-Null Count   Dtype  \n",
      "---  ------                      --------------   -----  \n",
      " 0   User_ID                     159999 non-null  int64  \n",
      " 1   Product_ID                  159999 non-null  object \n",
      " 2   Gender                      159999 non-null  object \n",
      " 3   Age                         159999 non-null  object \n",
      " 4   Occupation                  159999 non-null  int64  \n",
      " 5   City_Category               159999 non-null  object \n",
      " 6   Stay_In_Current_City_Years  159999 non-null  object \n",
      " 7   Marital_Status              159999 non-null  int64  \n",
      " 8   Product_Category_1          159999 non-null  int64  \n",
      " 9   Product_Category_2          110328 non-null  float64\n",
      " 10  Product_Category_3          48940 non-null   float64\n",
      " 11  Purchase                    159999 non-null  int64  \n",
      "dtypes: float64(2), int64(5), object(5)\n",
      "memory usage: 14.6+ MB\n"
     ]
    }
   ],
   "source": [
    "bf.info()"
   ]
  },
  {
   "cell_type": "code",
   "execution_count": 21,
   "id": "54576dd2",
   "metadata": {},
   "outputs": [
    {
     "data": {
      "text/html": [
       "<div>\n",
       "<style scoped>\n",
       "    .dataframe tbody tr th:only-of-type {\n",
       "        vertical-align: middle;\n",
       "    }\n",
       "\n",
       "    .dataframe tbody tr th {\n",
       "        vertical-align: top;\n",
       "    }\n",
       "\n",
       "    .dataframe thead th {\n",
       "        text-align: right;\n",
       "    }\n",
       "</style>\n",
       "<table border=\"1\" class=\"dataframe\">\n",
       "  <thead>\n",
       "    <tr style=\"text-align: right;\">\n",
       "      <th></th>\n",
       "      <th>User_ID</th>\n",
       "      <th>Product_ID</th>\n",
       "      <th>Gender</th>\n",
       "      <th>Age</th>\n",
       "      <th>Occupation</th>\n",
       "      <th>City_Category</th>\n",
       "      <th>Stay_In_Current_City_Years</th>\n",
       "      <th>Marital_Status</th>\n",
       "      <th>Product_Category_1</th>\n",
       "      <th>Product_Category_2</th>\n",
       "      <th>Product_Category_3</th>\n",
       "      <th>Purchase</th>\n",
       "    </tr>\n",
       "  </thead>\n",
       "  <tbody>\n",
       "    <tr>\n",
       "      <th>0</th>\n",
       "      <td>1000001</td>\n",
       "      <td>P00069042</td>\n",
       "      <td>F</td>\n",
       "      <td>0-17</td>\n",
       "      <td>10</td>\n",
       "      <td>A</td>\n",
       "      <td>2</td>\n",
       "      <td>0</td>\n",
       "      <td>3</td>\n",
       "      <td>NaN</td>\n",
       "      <td>NaN</td>\n",
       "      <td>8370</td>\n",
       "    </tr>\n",
       "    <tr>\n",
       "      <th>1</th>\n",
       "      <td>1000001</td>\n",
       "      <td>P00248942</td>\n",
       "      <td>F</td>\n",
       "      <td>0-17</td>\n",
       "      <td>10</td>\n",
       "      <td>A</td>\n",
       "      <td>2</td>\n",
       "      <td>0</td>\n",
       "      <td>1</td>\n",
       "      <td>6.0</td>\n",
       "      <td>14.0</td>\n",
       "      <td>15200</td>\n",
       "    </tr>\n",
       "    <tr>\n",
       "      <th>2</th>\n",
       "      <td>1000001</td>\n",
       "      <td>P00087842</td>\n",
       "      <td>F</td>\n",
       "      <td>0-17</td>\n",
       "      <td>10</td>\n",
       "      <td>A</td>\n",
       "      <td>2</td>\n",
       "      <td>0</td>\n",
       "      <td>12</td>\n",
       "      <td>NaN</td>\n",
       "      <td>NaN</td>\n",
       "      <td>1422</td>\n",
       "    </tr>\n",
       "    <tr>\n",
       "      <th>3</th>\n",
       "      <td>1000001</td>\n",
       "      <td>P00085442</td>\n",
       "      <td>F</td>\n",
       "      <td>0-17</td>\n",
       "      <td>10</td>\n",
       "      <td>A</td>\n",
       "      <td>2</td>\n",
       "      <td>0</td>\n",
       "      <td>12</td>\n",
       "      <td>14.0</td>\n",
       "      <td>NaN</td>\n",
       "      <td>1057</td>\n",
       "    </tr>\n",
       "    <tr>\n",
       "      <th>4</th>\n",
       "      <td>1000002</td>\n",
       "      <td>P00285442</td>\n",
       "      <td>M</td>\n",
       "      <td>55+</td>\n",
       "      <td>16</td>\n",
       "      <td>C</td>\n",
       "      <td>4+</td>\n",
       "      <td>0</td>\n",
       "      <td>8</td>\n",
       "      <td>NaN</td>\n",
       "      <td>NaN</td>\n",
       "      <td>7969</td>\n",
       "    </tr>\n",
       "  </tbody>\n",
       "</table>\n",
       "</div>"
      ],
      "text/plain": [
       "   User_ID Product_ID Gender   Age  Occupation City_Category  \\\n",
       "0  1000001  P00069042      F  0-17          10             A   \n",
       "1  1000001  P00248942      F  0-17          10             A   \n",
       "2  1000001  P00087842      F  0-17          10             A   \n",
       "3  1000001  P00085442      F  0-17          10             A   \n",
       "4  1000002  P00285442      M   55+          16             C   \n",
       "\n",
       "  Stay_In_Current_City_Years  Marital_Status  Product_Category_1  \\\n",
       "0                          2               0                   3   \n",
       "1                          2               0                   1   \n",
       "2                          2               0                  12   \n",
       "3                          2               0                  12   \n",
       "4                         4+               0                   8   \n",
       "\n",
       "   Product_Category_2  Product_Category_3  Purchase  \n",
       "0                 NaN                 NaN      8370  \n",
       "1                 6.0                14.0     15200  \n",
       "2                 NaN                 NaN      1422  \n",
       "3                14.0                 NaN      1057  \n",
       "4                 NaN                 NaN      7969  "
      ]
     },
     "execution_count": 21,
     "metadata": {},
     "output_type": "execute_result"
    }
   ],
   "source": [
    "bf.head()"
   ]
  },
  {
   "cell_type": "code",
   "execution_count": 22,
   "id": "65922464",
   "metadata": {},
   "outputs": [
    {
     "name": "stdout",
     "output_type": "stream",
     "text": [
      "Product_Category_3    69.412309\n",
      "Product_Category_2    31.044569\n",
      "dtype: float64 %\n"
     ]
    }
   ],
   "source": [
    "missing_values = bf.isnull().sum().sort_values(ascending = False)\n",
    "missing_values = missing_values[missing_values > 0]/bf.shape[0]\n",
    "print(f'{missing_values *100} %')"
   ]
  },
  {
   "cell_type": "code",
   "execution_count": 23,
   "id": "9ab60c19",
   "metadata": {},
   "outputs": [],
   "source": [
    "bf.fillna(0,inplace=True)"
   ]
  },
  {
   "cell_type": "code",
   "execution_count": 24,
   "id": "75b1df60",
   "metadata": {},
   "outputs": [],
   "source": [
    "bf['Age']=bf['Age'].apply(lambda x: 1 if x=='0-17' else( 2 if x=='18-25' else(3 if x in ('26-35','36-45') else (4 if x in ('46-50','51-55','55+') else x ) )))"
   ]
  },
  {
   "cell_type": "code",
   "execution_count": 25,
   "id": "0ed553cd",
   "metadata": {},
   "outputs": [],
   "source": [
    "bf=pd.get_dummies(data=bf,columns=['Gender','City_Category'],drop_first=True)"
   ]
  },
  {
   "cell_type": "code",
   "execution_count": 26,
   "id": "1cf415ad",
   "metadata": {},
   "outputs": [],
   "source": [
    "bf[\"Stay_In_Current_City_Years\"]=bf[\"Stay_In_Current_City_Years\"].apply(lambda x: str(x).replace(\"+\",\"\") if \"+\" in x else x)\n",
    "bf[\"Stay_In_Current_City_Years\"]=bf[\"Stay_In_Current_City_Years\"].apply(lambda x: int(x))"
   ]
  },
  {
   "cell_type": "code",
   "execution_count": 27,
   "id": "36c3213b",
   "metadata": {},
   "outputs": [
    {
     "name": "stdout",
     "output_type": "stream",
     "text": [
      "<class 'pandas.core.frame.DataFrame'>\n",
      "RangeIndex: 159999 entries, 0 to 159998\n",
      "Data columns (total 13 columns):\n",
      " #   Column                      Non-Null Count   Dtype  \n",
      "---  ------                      --------------   -----  \n",
      " 0   User_ID                     159999 non-null  int64  \n",
      " 1   Product_ID                  159999 non-null  object \n",
      " 2   Age                         159999 non-null  int64  \n",
      " 3   Occupation                  159999 non-null  int64  \n",
      " 4   Stay_In_Current_City_Years  159999 non-null  int64  \n",
      " 5   Marital_Status              159999 non-null  int64  \n",
      " 6   Product_Category_1          159999 non-null  int64  \n",
      " 7   Product_Category_2          159999 non-null  float64\n",
      " 8   Product_Category_3          159999 non-null  float64\n",
      " 9   Purchase                    159999 non-null  int64  \n",
      " 10  Gender_M                    159999 non-null  uint8  \n",
      " 11  City_Category_B             159999 non-null  uint8  \n",
      " 12  City_Category_C             159999 non-null  uint8  \n",
      "dtypes: float64(2), int64(7), object(1), uint8(3)\n",
      "memory usage: 12.7+ MB\n"
     ]
    }
   ],
   "source": [
    "bf.info()"
   ]
  },
  {
   "cell_type": "code",
   "execution_count": 28,
   "id": "f95ee785",
   "metadata": {},
   "outputs": [],
   "source": [
    "#dropping columns which have all the unique values\n",
    "bf.drop(columns=['User_ID','Product_ID'],inplace=True)"
   ]
  },
  {
   "cell_type": "code",
   "execution_count": 30,
   "id": "173fbb06",
   "metadata": {},
   "outputs": [
    {
     "name": "stdout",
     "output_type": "stream",
     "text": [
      "<class 'pandas.core.frame.DataFrame'>\n",
      "RangeIndex: 159999 entries, 0 to 159998\n",
      "Data columns (total 11 columns):\n",
      " #   Column                      Non-Null Count   Dtype  \n",
      "---  ------                      --------------   -----  \n",
      " 0   Age                         159999 non-null  int64  \n",
      " 1   Occupation                  159999 non-null  int64  \n",
      " 2   Stay_In_Current_City_Years  159999 non-null  int64  \n",
      " 3   Marital_Status              159999 non-null  int64  \n",
      " 4   Product_Category_1          159999 non-null  int64  \n",
      " 5   Product_Category_2          159999 non-null  float64\n",
      " 6   Product_Category_3          159999 non-null  float64\n",
      " 7   Purchase                    159999 non-null  int64  \n",
      " 8   Gender_M                    159999 non-null  uint8  \n",
      " 9   City_Category_B             159999 non-null  uint8  \n",
      " 10  City_Category_C             159999 non-null  uint8  \n",
      "dtypes: float64(2), int64(6), uint8(3)\n",
      "memory usage: 10.2 MB\n"
     ]
    }
   ],
   "source": [
    "bf.info()"
   ]
  },
  {
   "cell_type": "code",
   "execution_count": null,
   "id": "a2bf50b3",
   "metadata": {},
   "outputs": [],
   "source": []
  }
 ],
 "metadata": {
  "kernelspec": {
   "display_name": "Python 3 (ipykernel)",
   "language": "python",
   "name": "python3"
  },
  "language_info": {
   "codemirror_mode": {
    "name": "ipython",
    "version": 3
   },
   "file_extension": ".py",
   "mimetype": "text/x-python",
   "name": "python",
   "nbconvert_exporter": "python",
   "pygments_lexer": "ipython3",
   "version": "3.9.12"
  }
 },
 "nbformat": 4,
 "nbformat_minor": 5
}
