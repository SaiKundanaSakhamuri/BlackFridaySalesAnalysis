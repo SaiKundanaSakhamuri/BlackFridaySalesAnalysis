{
 "cells": [
  {
   "cell_type": "markdown",
   "id": "d39bc348",
   "metadata": {},
   "source": [
    "### Importing and Initial Preping of Data"
   ]
  },
  {
   "cell_type": "code",
   "execution_count": 1,
   "id": "49f6da22",
   "metadata": {},
   "outputs": [],
   "source": [
    "import numpy as np\n",
    "import pandas as pd\n",
    "from matplotlib import pyplot as plt\n",
    "import seaborn as sns\n",
    "import numpy as np\n",
    "from sklearn.preprocessing import StandardScaler\n",
    "from sklearn import metrics"
   ]
  },
  {
   "cell_type": "code",
   "execution_count": 2,
   "id": "6826c7c5",
   "metadata": {},
   "outputs": [],
   "source": [
    "sc=StandardScaler()"
   ]
  },
  {
   "cell_type": "code",
   "execution_count": 3,
   "id": "e120d30c",
   "metadata": {},
   "outputs": [],
   "source": [
    "bf=data = pd.read_csv('BlackFridaySalesResized.csv')"
   ]
  },
  {
   "cell_type": "code",
   "execution_count": 4,
   "id": "01c164ea",
   "metadata": {},
   "outputs": [
    {
     "name": "stdout",
     "output_type": "stream",
     "text": [
      "<class 'pandas.core.frame.DataFrame'>\n",
      "RangeIndex: 159999 entries, 0 to 159998\n",
      "Data columns (total 12 columns):\n",
      " #   Column                      Non-Null Count   Dtype  \n",
      "---  ------                      --------------   -----  \n",
      " 0   User_ID                     159999 non-null  int64  \n",
      " 1   Product_ID                  159999 non-null  object \n",
      " 2   Gender                      159999 non-null  object \n",
      " 3   Age                         159999 non-null  object \n",
      " 4   Occupation                  159999 non-null  int64  \n",
      " 5   City_Category               159999 non-null  object \n",
      " 6   Stay_In_Current_City_Years  159999 non-null  object \n",
      " 7   Marital_Status              159999 non-null  int64  \n",
      " 8   Product_Category_1          159999 non-null  int64  \n",
      " 9   Product_Category_2          110328 non-null  float64\n",
      " 10  Product_Category_3          48940 non-null   float64\n",
      " 11  Purchase                    159999 non-null  int64  \n",
      "dtypes: float64(2), int64(5), object(5)\n",
      "memory usage: 14.6+ MB\n"
     ]
    }
   ],
   "source": [
    "bf.info()"
   ]
  },
  {
   "cell_type": "code",
   "execution_count": 5,
   "id": "86260456",
   "metadata": {},
   "outputs": [
    {
     "data": {
      "text/html": [
       "<div>\n",
       "<style scoped>\n",
       "    .dataframe tbody tr th:only-of-type {\n",
       "        vertical-align: middle;\n",
       "    }\n",
       "\n",
       "    .dataframe tbody tr th {\n",
       "        vertical-align: top;\n",
       "    }\n",
       "\n",
       "    .dataframe thead th {\n",
       "        text-align: right;\n",
       "    }\n",
       "</style>\n",
       "<table border=\"1\" class=\"dataframe\">\n",
       "  <thead>\n",
       "    <tr style=\"text-align: right;\">\n",
       "      <th></th>\n",
       "      <th>User_ID</th>\n",
       "      <th>Product_ID</th>\n",
       "      <th>Gender</th>\n",
       "      <th>Age</th>\n",
       "      <th>Occupation</th>\n",
       "      <th>City_Category</th>\n",
       "      <th>Stay_In_Current_City_Years</th>\n",
       "      <th>Marital_Status</th>\n",
       "      <th>Product_Category_1</th>\n",
       "      <th>Product_Category_2</th>\n",
       "      <th>Product_Category_3</th>\n",
       "      <th>Purchase</th>\n",
       "    </tr>\n",
       "  </thead>\n",
       "  <tbody>\n",
       "    <tr>\n",
       "      <th>0</th>\n",
       "      <td>1000001</td>\n",
       "      <td>P00069042</td>\n",
       "      <td>F</td>\n",
       "      <td>0-17</td>\n",
       "      <td>10</td>\n",
       "      <td>A</td>\n",
       "      <td>2</td>\n",
       "      <td>0</td>\n",
       "      <td>3</td>\n",
       "      <td>NaN</td>\n",
       "      <td>NaN</td>\n",
       "      <td>8370</td>\n",
       "    </tr>\n",
       "    <tr>\n",
       "      <th>1</th>\n",
       "      <td>1000001</td>\n",
       "      <td>P00248942</td>\n",
       "      <td>F</td>\n",
       "      <td>0-17</td>\n",
       "      <td>10</td>\n",
       "      <td>A</td>\n",
       "      <td>2</td>\n",
       "      <td>0</td>\n",
       "      <td>1</td>\n",
       "      <td>6.0</td>\n",
       "      <td>14.0</td>\n",
       "      <td>15200</td>\n",
       "    </tr>\n",
       "    <tr>\n",
       "      <th>2</th>\n",
       "      <td>1000001</td>\n",
       "      <td>P00087842</td>\n",
       "      <td>F</td>\n",
       "      <td>0-17</td>\n",
       "      <td>10</td>\n",
       "      <td>A</td>\n",
       "      <td>2</td>\n",
       "      <td>0</td>\n",
       "      <td>12</td>\n",
       "      <td>NaN</td>\n",
       "      <td>NaN</td>\n",
       "      <td>1422</td>\n",
       "    </tr>\n",
       "    <tr>\n",
       "      <th>3</th>\n",
       "      <td>1000001</td>\n",
       "      <td>P00085442</td>\n",
       "      <td>F</td>\n",
       "      <td>0-17</td>\n",
       "      <td>10</td>\n",
       "      <td>A</td>\n",
       "      <td>2</td>\n",
       "      <td>0</td>\n",
       "      <td>12</td>\n",
       "      <td>14.0</td>\n",
       "      <td>NaN</td>\n",
       "      <td>1057</td>\n",
       "    </tr>\n",
       "    <tr>\n",
       "      <th>4</th>\n",
       "      <td>1000002</td>\n",
       "      <td>P00285442</td>\n",
       "      <td>M</td>\n",
       "      <td>55+</td>\n",
       "      <td>16</td>\n",
       "      <td>C</td>\n",
       "      <td>4+</td>\n",
       "      <td>0</td>\n",
       "      <td>8</td>\n",
       "      <td>NaN</td>\n",
       "      <td>NaN</td>\n",
       "      <td>7969</td>\n",
       "    </tr>\n",
       "  </tbody>\n",
       "</table>\n",
       "</div>"
      ],
      "text/plain": [
       "   User_ID Product_ID Gender   Age  Occupation City_Category  \\\n",
       "0  1000001  P00069042      F  0-17          10             A   \n",
       "1  1000001  P00248942      F  0-17          10             A   \n",
       "2  1000001  P00087842      F  0-17          10             A   \n",
       "3  1000001  P00085442      F  0-17          10             A   \n",
       "4  1000002  P00285442      M   55+          16             C   \n",
       "\n",
       "  Stay_In_Current_City_Years  Marital_Status  Product_Category_1  \\\n",
       "0                          2               0                   3   \n",
       "1                          2               0                   1   \n",
       "2                          2               0                  12   \n",
       "3                          2               0                  12   \n",
       "4                         4+               0                   8   \n",
       "\n",
       "   Product_Category_2  Product_Category_3  Purchase  \n",
       "0                 NaN                 NaN      8370  \n",
       "1                 6.0                14.0     15200  \n",
       "2                 NaN                 NaN      1422  \n",
       "3                14.0                 NaN      1057  \n",
       "4                 NaN                 NaN      7969  "
      ]
     },
     "execution_count": 5,
     "metadata": {},
     "output_type": "execute_result"
    }
   ],
   "source": [
    "bf.head()"
   ]
  },
  {
   "cell_type": "code",
   "execution_count": 6,
   "id": "94f2d16b",
   "metadata": {},
   "outputs": [
    {
     "name": "stdout",
     "output_type": "stream",
     "text": [
      "Product_Category_3    69.412309\n",
      "Product_Category_2    31.044569\n",
      "dtype: float64 %\n"
     ]
    }
   ],
   "source": [
    "missing_values = bf.isnull().sum().sort_values(ascending = False)\n",
    "missing_values = missing_values[missing_values > 0]/bf.shape[0]\n",
    "print(f'{missing_values *100} %')"
   ]
  },
  {
   "cell_type": "code",
   "execution_count": 7,
   "id": "e28b8dea",
   "metadata": {},
   "outputs": [],
   "source": [
    "bf.fillna(0,inplace=True)"
   ]
  },
  {
   "cell_type": "code",
   "execution_count": 8,
   "id": "4fde2a70",
   "metadata": {},
   "outputs": [],
   "source": [
    "bf['Age']=bf['Age'].apply(lambda x: 1 if x=='0-17' else( 2 if x=='18-25' else(3 if x in ('26-35','36-45') else (4 if x in ('46-50','51-55','55+') else x ) )))"
   ]
  },
  {
   "cell_type": "code",
   "execution_count": 9,
   "id": "346a3f26",
   "metadata": {},
   "outputs": [],
   "source": [
    "bf=pd.get_dummies(data=bf,columns=['Gender','City_Category'],drop_first=True)"
   ]
  },
  {
   "cell_type": "code",
   "execution_count": 10,
   "id": "4a667860",
   "metadata": {},
   "outputs": [],
   "source": [
    "bf[\"Stay_In_Current_City_Years\"]=bf[\"Stay_In_Current_City_Years\"].apply(lambda x: str(x).replace(\"+\",\"\") if \"+\" in x else x)\n",
    "bf[\"Stay_In_Current_City_Years\"]=bf[\"Stay_In_Current_City_Years\"].apply(lambda x: int(x))"
   ]
  },
  {
   "cell_type": "code",
   "execution_count": 11,
   "id": "d37ac877",
   "metadata": {},
   "outputs": [
    {
     "name": "stdout",
     "output_type": "stream",
     "text": [
      "<class 'pandas.core.frame.DataFrame'>\n",
      "RangeIndex: 159999 entries, 0 to 159998\n",
      "Data columns (total 13 columns):\n",
      " #   Column                      Non-Null Count   Dtype  \n",
      "---  ------                      --------------   -----  \n",
      " 0   User_ID                     159999 non-null  int64  \n",
      " 1   Product_ID                  159999 non-null  object \n",
      " 2   Age                         159999 non-null  int64  \n",
      " 3   Occupation                  159999 non-null  int64  \n",
      " 4   Stay_In_Current_City_Years  159999 non-null  int64  \n",
      " 5   Marital_Status              159999 non-null  int64  \n",
      " 6   Product_Category_1          159999 non-null  int64  \n",
      " 7   Product_Category_2          159999 non-null  float64\n",
      " 8   Product_Category_3          159999 non-null  float64\n",
      " 9   Purchase                    159999 non-null  int64  \n",
      " 10  Gender_M                    159999 non-null  uint8  \n",
      " 11  City_Category_B             159999 non-null  uint8  \n",
      " 12  City_Category_C             159999 non-null  uint8  \n",
      "dtypes: float64(2), int64(7), object(1), uint8(3)\n",
      "memory usage: 12.7+ MB\n"
     ]
    }
   ],
   "source": [
    "bf.info()"
   ]
  },
  {
   "cell_type": "code",
   "execution_count": 12,
   "id": "7b08aec3",
   "metadata": {},
   "outputs": [],
   "source": [
    "#dropping columns which have all the unique values\n",
    "bf.drop(columns=['User_ID','Product_ID'],inplace=True)"
   ]
  },
  {
   "cell_type": "code",
   "execution_count": 13,
   "id": "d253e39e",
   "metadata": {},
   "outputs": [
    {
     "name": "stdout",
     "output_type": "stream",
     "text": [
      "<class 'pandas.core.frame.DataFrame'>\n",
      "RangeIndex: 159999 entries, 0 to 159998\n",
      "Data columns (total 11 columns):\n",
      " #   Column                      Non-Null Count   Dtype  \n",
      "---  ------                      --------------   -----  \n",
      " 0   Age                         159999 non-null  int64  \n",
      " 1   Occupation                  159999 non-null  int64  \n",
      " 2   Stay_In_Current_City_Years  159999 non-null  int64  \n",
      " 3   Marital_Status              159999 non-null  int64  \n",
      " 4   Product_Category_1          159999 non-null  int64  \n",
      " 5   Product_Category_2          159999 non-null  float64\n",
      " 6   Product_Category_3          159999 non-null  float64\n",
      " 7   Purchase                    159999 non-null  int64  \n",
      " 8   Gender_M                    159999 non-null  uint8  \n",
      " 9   City_Category_B             159999 non-null  uint8  \n",
      " 10  City_Category_C             159999 non-null  uint8  \n",
      "dtypes: float64(2), int64(6), uint8(3)\n",
      "memory usage: 10.2 MB\n"
     ]
    }
   ],
   "source": [
    "bf.info()"
   ]
  },
  {
   "cell_type": "markdown",
   "id": "f0c45732",
   "metadata": {},
   "source": [
    "## 1.K-Means"
   ]
  },
  {
   "cell_type": "code",
   "execution_count": 14,
   "id": "0941db06",
   "metadata": {},
   "outputs": [],
   "source": [
    "from scipy.stats import zscore\n",
    "X_scaled = bf.apply(zscore)"
   ]
  },
  {
   "cell_type": "code",
   "execution_count": 15,
   "id": "b1999289",
   "metadata": {},
   "outputs": [
    {
     "data": {
      "text/html": [
       "<div>\n",
       "<style scoped>\n",
       "    .dataframe tbody tr th:only-of-type {\n",
       "        vertical-align: middle;\n",
       "    }\n",
       "\n",
       "    .dataframe tbody tr th {\n",
       "        vertical-align: top;\n",
       "    }\n",
       "\n",
       "    .dataframe thead th {\n",
       "        text-align: right;\n",
       "    }\n",
       "</style>\n",
       "<table border=\"1\" class=\"dataframe\">\n",
       "  <thead>\n",
       "    <tr style=\"text-align: right;\">\n",
       "      <th></th>\n",
       "      <th>num_clusters</th>\n",
       "      <th>cluster_errors</th>\n",
       "    </tr>\n",
       "  </thead>\n",
       "  <tbody>\n",
       "    <tr>\n",
       "      <th>0</th>\n",
       "      <td>1</td>\n",
       "      <td>1.759989e+06</td>\n",
       "    </tr>\n",
       "    <tr>\n",
       "      <th>1</th>\n",
       "      <td>2</td>\n",
       "      <td>1.545953e+06</td>\n",
       "    </tr>\n",
       "    <tr>\n",
       "      <th>2</th>\n",
       "      <td>3</td>\n",
       "      <td>1.410590e+06</td>\n",
       "    </tr>\n",
       "    <tr>\n",
       "      <th>3</th>\n",
       "      <td>4</td>\n",
       "      <td>1.322448e+06</td>\n",
       "    </tr>\n",
       "    <tr>\n",
       "      <th>4</th>\n",
       "      <td>5</td>\n",
       "      <td>1.254138e+06</td>\n",
       "    </tr>\n",
       "    <tr>\n",
       "      <th>5</th>\n",
       "      <td>6</td>\n",
       "      <td>1.200812e+06</td>\n",
       "    </tr>\n",
       "    <tr>\n",
       "      <th>6</th>\n",
       "      <td>7</td>\n",
       "      <td>1.160123e+06</td>\n",
       "    </tr>\n",
       "    <tr>\n",
       "      <th>7</th>\n",
       "      <td>8</td>\n",
       "      <td>1.122029e+06</td>\n",
       "    </tr>\n",
       "    <tr>\n",
       "      <th>8</th>\n",
       "      <td>9</td>\n",
       "      <td>1.096952e+06</td>\n",
       "    </tr>\n",
       "    <tr>\n",
       "      <th>9</th>\n",
       "      <td>10</td>\n",
       "      <td>1.064723e+06</td>\n",
       "    </tr>\n",
       "    <tr>\n",
       "      <th>10</th>\n",
       "      <td>11</td>\n",
       "      <td>1.041549e+06</td>\n",
       "    </tr>\n",
       "    <tr>\n",
       "      <th>11</th>\n",
       "      <td>12</td>\n",
       "      <td>1.021932e+06</td>\n",
       "    </tr>\n",
       "    <tr>\n",
       "      <th>12</th>\n",
       "      <td>13</td>\n",
       "      <td>9.938932e+05</td>\n",
       "    </tr>\n",
       "    <tr>\n",
       "      <th>13</th>\n",
       "      <td>14</td>\n",
       "      <td>9.687448e+05</td>\n",
       "    </tr>\n",
       "  </tbody>\n",
       "</table>\n",
       "</div>"
      ],
      "text/plain": [
       "    num_clusters  cluster_errors\n",
       "0              1    1.759989e+06\n",
       "1              2    1.545953e+06\n",
       "2              3    1.410590e+06\n",
       "3              4    1.322448e+06\n",
       "4              5    1.254138e+06\n",
       "5              6    1.200812e+06\n",
       "6              7    1.160123e+06\n",
       "7              8    1.122029e+06\n",
       "8              9    1.096952e+06\n",
       "9             10    1.064723e+06\n",
       "10            11    1.041549e+06\n",
       "11            12    1.021932e+06\n",
       "12            13    9.938932e+05\n",
       "13            14    9.687448e+05"
      ]
     },
     "execution_count": 15,
     "metadata": {},
     "output_type": "execute_result"
    }
   ],
   "source": [
    "from sklearn.cluster import KMeans\n",
    "cluster_range = range( 1, 15 )\n",
    "cluster_errors = []\n",
    "for num_clusters in cluster_range:\n",
    "  clusters = KMeans( num_clusters,n_init = 15, random_state=2)\n",
    "  clusters.fit(X_scaled)\n",
    "  labels = clusters.labels_\n",
    "  centroids = clusters.cluster_centers_\n",
    "  cluster_errors.append( clusters.inertia_ )\n",
    "clusters_df = pd.DataFrame( { \"num_clusters\":cluster_range, \"cluster_errors\": cluster_errors } )\n",
    "clusters_df[0:15]"
   ]
  },
  {
   "cell_type": "markdown",
   "id": "b1c1b8d6",
   "metadata": {},
   "source": [
    "### K means using elbow method"
   ]
  },
  {
   "cell_type": "code",
   "execution_count": 16,
   "id": "2fb74692",
   "metadata": {},
   "outputs": [
    {
     "data": {
      "image/png": "[encoded data removed]",
      "text/plain": [
       "<Figure size 864x432 with 1 Axes>"
      ]
     },
     "metadata": {
      "needs_background": "light"
     },
     "output_type": "display_data"
    }
   ],
   "source": [
    "plt.figure(figsize=(12,6))\n",
    "plt.plot( clusters_df.num_clusters, clusters_df.cluster_errors, marker = \"o\" )\n",
    "plt.show()"
   ]
  },
  {
   "cell_type": "code",
   "execution_count": 17,
   "id": "5d2b9eee",
   "metadata": {},
   "outputs": [],
   "source": [
    "from sklearn.decomposition import PCA\n",
    "pca=PCA(n_components=2)\n",
    "X_pca=pca.fit_transform(X_scaled)"
   ]
  },
  {
   "cell_type": "code",
   "execution_count": 18,
   "id": "53c73d74",
   "metadata": {},
   "outputs": [
    {
     "data": {
      "image/png": "[encoded data removed]",
      "text/plain": [
       "<Figure size 432x288 with 1 Axes>"
      ]
     },
     "metadata": {
      "needs_background": "light"
     },
     "output_type": "display_data"
    }
   ],
   "source": [
    "# Using the elbow method to find the optimal number of clusters\n",
    "from sklearn.cluster import KMeans\n",
    "cluster_errors = []\n",
    "for i in range(1,10):\n",
    "    kmeans = KMeans(n_clusters = i, init = 'k-means++', random_state = 1)\n",
    "    kmeans.fit(X_pca)\n",
    "    cluster_errors.append(kmeans.inertia_)\n",
    "plt.plot(range(1,10), cluster_errors)\n",
    "plt.title('Elbow Method')\n",
    "plt.xlabel('Number of clusters')\n",
    "plt.ylabel('cluster_errors')\n",
    "plt.show()"
   ]
  },
  {
   "cell_type": "code",
   "execution_count": 19,
   "id": "5bb37b82",
   "metadata": {},
   "outputs": [
    {
     "name": "stdout",
     "output_type": "stream",
     "text": [
      "The centroids are  [[ 0.14636269  1.89162529]\n",
      " [ 0.72662428  0.4334478 ]\n",
      " [-0.9235643  -0.32802849]\n",
      " [-2.6563619   0.45416985]\n",
      " [ 1.24777715 -0.83586196]\n",
      " [-1.39746283  1.15413441]\n",
      " [-0.17074104 -1.47288448]\n",
      " [-1.57042619 -1.83885553]\n",
      " [ 2.19439061  0.12521072]]\n",
      "Assignments are: \n",
      "[1 7 8 ... 0 0 0]\n"
     ]
    }
   ],
   "source": [
    "print(\"The centroids are \", kmeans.cluster_centers_)\n",
    "\n",
    "print(\"Assignments are: \")\n",
    "print(kmeans.labels_)"
   ]
  },
  {
   "cell_type": "markdown",
   "id": "e3bc7eb1",
   "metadata": {},
   "source": [
    "## 2. Dimensional analysis"
   ]
  },
  {
   "cell_type": "code",
   "execution_count": 20,
   "id": "b0ff9f32",
   "metadata": {},
   "outputs": [],
   "source": [
    "# Fitting K-Means to the pca model\n",
    "kmeans = KMeans(n_clusters = 3, init = 'k-means++', random_state = 1)\n",
    "y_kmeans = kmeans.fit_predict(X_pca)"
   ]
  },
  {
   "cell_type": "code",
   "execution_count": 21,
   "id": "42674281",
   "metadata": {},
   "outputs": [
    {
     "data": {
      "image/png": "[encoded data removed]",
      "text/plain": [
       "<Figure size 1152x576 with 1 Axes>"
      ]
     },
     "metadata": {
      "needs_background": "light"
     },
     "output_type": "display_data"
    }
   ],
   "source": [
    "# figure size\n",
    "plt.figure(figsize=(16,8))\n",
    "# Visualising the clusters\n",
    "plt.scatter(X_pca[y_kmeans == 0, 0], X_pca[y_kmeans == 0, 1], s = 100, c = 'yellow', label = 'Cluster 1')\n",
    "plt.scatter(X_pca[y_kmeans == 1, 0], X_pca[y_kmeans == 1, 1], s = 100, c = 'green', label = 'Cluster 2')\n",
    "plt.scatter(X_pca[y_kmeans == 2, 0], X_pca[y_kmeans == 2, 1], s = 100, c = 'brown', label = 'Cluster 3')\n",
    "plt.scatter(kmeans.cluster_centers_[:, 0], kmeans.cluster_centers_[:, 1], s = 300, c = 'white', label = 'Centroids')\n",
    "plt.title('Clusters')\n",
    "plt.xlabel('PCA 1')\n",
    "plt.ylabel('PCA 2')\n",
    "plt.legend()\n",
    "plt.show()\n"
   ]
  },
  {
   "cell_type": "code",
   "execution_count": 22,
   "id": "8d030aee",
   "metadata": {},
   "outputs": [],
   "source": [
    "# Fitting K-Means to the pca model\n",
    "kmeans = KMeans(n_clusters = 4, init = 'k-means++', random_state = 1)\n",
    "y_kmeans = kmeans.fit_predict(X_pca)"
   ]
  },
  {
   "cell_type": "code",
   "execution_count": 23,
   "id": "7c5b8c7b",
   "metadata": {},
   "outputs": [
    {
     "data": {
      "image/png": "[encoded data removed]",
      "text/plain": [
       "<Figure size 1152x576 with 1 Axes>"
      ]
     },
     "metadata": {
      "needs_background": "light"
     },
     "output_type": "display_data"
    }
   ],
   "source": [
    "# figure size\n",
    "plt.figure(figsize=(16,8))\n",
    "# Visualising the clusters\n",
    "plt.scatter(X_pca[y_kmeans == 0, 0], X_pca[y_kmeans == 0, 1], s = 100, c = 'yellow', label = 'Cluster 1')\n",
    "plt.scatter(X_pca[y_kmeans == 1, 0], X_pca[y_kmeans == 1, 1], s = 100, c = 'green', label = 'Cluster 2')\n",
    "plt.scatter(X_pca[y_kmeans == 2, 0], X_pca[y_kmeans == 2, 1], s = 100, c = 'brown', label = 'Cluster 3')\n",
    "plt.scatter(X_pca[y_kmeans == 3, 0], X_pca[y_kmeans == 3, 1], s = 100, c = 'blue', label = 'Cluster 4')\n",
    "plt.scatter(kmeans.cluster_centers_[:, 0], kmeans.cluster_centers_[:, 1], s = 300, c = 'white', label = 'Centroids')\n",
    "plt.title('Clusters')\n",
    "plt.xlabel('PCA 1')\n",
    "plt.ylabel('PCA 2')\n",
    "plt.legend()\n",
    "plt.show()"
   ]
  },
  {
   "cell_type": "markdown",
   "id": "35f9e17f",
   "metadata": {},
   "source": [
    "## 3.What you have discovered in data?"
   ]
  },
  {
   "cell_type": "markdown",
   "id": "dec0244d",
   "metadata": {},
   "source": [
    "We are conducting our analysis on data of 16000 rows and 11 columns. AS you can see from above we got 4 clusters. As our data is supervised it helps us perform different types of classifications, regression and also develop Predictive models"
   ]
  },
  {
   "cell_type": "markdown",
   "id": "36cb0d43",
   "metadata": {},
   "source": [
    "## 4. Anomalous data"
   ]
  },
  {
   "cell_type": "markdown",
   "id": "b8acf358",
   "metadata": {},
   "source": [
    "Anomalous data is the data that doesn't fit the general pattern of overall data. Such data can be consisdered useful in amny approaches of analysis. <br>\n",
    "Our selected data set is supervised and also doesn;t have any anomalous data."
   ]
  },
  {
   "cell_type": "markdown",
   "id": "aaa5d97e",
   "metadata": {},
   "source": [
    "## 5. Few more advanced regression/classifier tools"
   ]
  },
  {
   "cell_type": "markdown",
   "id": "2c997c27",
   "metadata": {},
   "source": [
    "### Random Forest Regressor"
   ]
  },
  {
   "cell_type": "code",
   "execution_count": 47,
   "id": "c04e089f",
   "metadata": {},
   "outputs": [],
   "source": [
    "from sklearn.ensemble import RandomForestRegressor"
   ]
  },
  {
   "cell_type": "code",
   "execution_count": 40,
   "id": "7bc72eeb",
   "metadata": {},
   "outputs": [
    {
     "name": "stdout",
     "output_type": "stream",
     "text": [
      "X_train shape: (119999, 10)\n",
      "X_test shape: (40000, 10)\n",
      "y_train shape: (119999,)\n",
      "y_test shape: (40000,)\n"
     ]
    }
   ],
   "source": [
    "from sklearn.model_selection import train_test_split\n",
    "X_train, X_test, y_train, y_test = train_test_split(X, y,random_state=42, test_size=0.25)\n",
    "print(\"X_train shape:\", X_train.shape)\n",
    "print(\"X_test shape:\", X_test.shape)\n",
    "print(\"y_train shape:\", y_train.shape)\n",
    "print(\"y_test shape:\", y_test.shape)"
   ]
  },
  {
   "cell_type": "code",
   "execution_count": 48,
   "id": "08c0fd57",
   "metadata": {},
   "outputs": [],
   "source": [
    "rf = RandomForestRegressor(n_jobs=-1)"
   ]
  },
  {
   "cell_type": "code",
   "execution_count": 49,
   "id": "ea87e3e5",
   "metadata": {},
   "outputs": [],
   "source": [
    "rf_model = rf.fit(X_train,y_train)"
   ]
  },
  {
   "cell_type": "code",
   "execution_count": 50,
   "id": "012bcab4",
   "metadata": {},
   "outputs": [],
   "source": [
    "rf_pred =rf_model.predict(X_test)"
   ]
  },
  {
   "cell_type": "code",
   "execution_count": 52,
   "id": "276e825a",
   "metadata": {},
   "outputs": [
    {
     "data": {
      "text/plain": [
       "array([12820.50418624,  7672.76708114,  3120.84035714, ...,\n",
       "       13775.31833333, 13103.352     ,  7535.37036455])"
      ]
     },
     "execution_count": 52,
     "metadata": {},
     "output_type": "execute_result"
    }
   ],
   "source": [
    "rf_pred"
   ]
  },
  {
   "cell_type": "code",
   "execution_count": 55,
   "id": "b1f40c0a",
   "metadata": {},
   "outputs": [
    {
     "data": {
      "text/plain": [
       "<AxesSubplot:title={'center':'Random Forest Regressor'}>"
      ]
     },
     "execution_count": 55,
     "metadata": {},
     "output_type": "execute_result"
    },
    {
     "data": {
      "image/png": "[encoded data removed]",
      "text/plain": [
       "<Figure size 432x288 with 1 Axes>"
      ]
     },
     "metadata": {
      "needs_background": "light"
     },
     "output_type": "display_data"
    }
   ],
   "source": [
    "#Plotting the prediction of Random Forest Regression Model\n",
    "rf_features = pd.Series(rf_model.feature_importances_, X.columns).sort_values(ascending=False)\n",
    "rf_features.plot(kind='bar', title='Random Forest Regressor')"
   ]
  },
  {
   "cell_type": "code",
   "execution_count": 56,
   "id": "69a996d6",
   "metadata": {},
   "outputs": [
    {
     "name": "stdout",
     "output_type": "stream",
     "text": [
      "Mean Absolute Error: 2307.21649911169\n"
     ]
    }
   ],
   "source": [
    "print('Mean Absolute Error:', metrics.mean_absolute_error(y_test, rf_pred))"
   ]
  },
  {
   "cell_type": "code",
   "execution_count": 61,
   "id": "09d09aee",
   "metadata": {},
   "outputs": [
    {
     "name": "stdout",
     "output_type": "stream",
     "text": [
      "Mean Squared Error: 9927044.839649128\n"
     ]
    }
   ],
   "source": [
    "print('Mean Squared Error:', metrics.mean_squared_error(y_test, rf_pred))"
   ]
  },
  {
   "cell_type": "code",
   "execution_count": 62,
   "id": "3e8bb1ba",
   "metadata": {},
   "outputs": [
    {
     "name": "stdout",
     "output_type": "stream",
     "text": [
      "Root Mean Squared Error: 3150.7213205310823\n"
     ]
    }
   ],
   "source": [
    "print('Root Mean Squared Error:', np.sqrt(metrics.mean_squared_error(y_test, rf_pred)))"
   ]
  },
  {
   "cell_type": "code",
   "execution_count": 65,
   "id": "549112c2",
   "metadata": {},
   "outputs": [],
   "source": [
    "from sklearn.metrics import accuracy_score\n",
    "from sklearn.metrics import r2_score\n",
    "from sklearn import metrics"
   ]
  },
  {
   "cell_type": "code",
   "execution_count": 66,
   "id": "fc93fdb3",
   "metadata": {},
   "outputs": [
    {
     "name": "stdout",
     "output_type": "stream",
     "text": [
      "R-squared: 0.5994406977308102\n"
     ]
    }
   ],
   "source": [
    "print('R-squared:', r2_score(y_test, rf_pred))"
   ]
  },
  {
   "cell_type": "code",
   "execution_count": 79,
   "id": "f27f9279",
   "metadata": {},
   "outputs": [
    {
     "name": "stdout",
     "output_type": "stream",
     "text": [
      "Variance inflation factor(VIF): 2.496509241790034\n"
     ]
    }
   ],
   "source": [
    "print('Variance inflation factor(VIF):', 1/(1-r2_score(y_test, rf_pred)))"
   ]
  },
  {
   "cell_type": "code",
   "execution_count": 83,
   "id": "7bca5a43",
   "metadata": {},
   "outputs": [
    {
     "name": "stdout",
     "output_type": "stream",
     "text": [
      "Accuracy:  59.94406977308102 %\n"
     ]
    }
   ],
   "source": [
    "accuracy = rf.score(X_test,y_test)\n",
    "print('Accuracy: ',accuracy*100,'%')"
   ]
  },
  {
   "cell_type": "markdown",
   "id": "729f0be4",
   "metadata": {},
   "source": [
    "## Ridge"
   ]
  },
  {
   "cell_type": "code",
   "execution_count": 75,
   "id": "df599a6d",
   "metadata": {},
   "outputs": [],
   "source": [
    "from sklearn.linear_model import Ridge"
   ]
  },
  {
   "cell_type": "code",
   "execution_count": 76,
   "id": "390a523c",
   "metadata": {},
   "outputs": [
    {
     "data": {
      "text/plain": [
       "Ridge()"
      ]
     },
     "execution_count": 76,
     "metadata": {},
     "output_type": "execute_result"
    }
   ],
   "source": [
    "ridge = Ridge()\n",
    "ridge.fit(X_train,y_train)"
   ]
  },
  {
   "cell_type": "code",
   "execution_count": 77,
   "id": "f95e004e",
   "metadata": {},
   "outputs": [],
   "source": [
    "ridge_prediction=ridge.predict(X_test)"
   ]
  },
  {
   "cell_type": "code",
   "execution_count": 78,
   "id": "a61849e8",
   "metadata": {},
   "outputs": [
    {
     "data": {
      "text/html": [
       "<div>\n",
       "<style scoped>\n",
       "    .dataframe tbody tr th:only-of-type {\n",
       "        vertical-align: middle;\n",
       "    }\n",
       "\n",
       "    .dataframe tbody tr th {\n",
       "        vertical-align: top;\n",
       "    }\n",
       "\n",
       "    .dataframe thead th {\n",
       "        text-align: right;\n",
       "    }\n",
       "</style>\n",
       "<table border=\"1\" class=\"dataframe\">\n",
       "  <thead>\n",
       "    <tr style=\"text-align: right;\">\n",
       "      <th></th>\n",
       "      <th>Actual</th>\n",
       "      <th>Predicted</th>\n",
       "    </tr>\n",
       "  </thead>\n",
       "  <tbody>\n",
       "    <tr>\n",
       "      <th>49889</th>\n",
       "      <td>11989</td>\n",
       "      <td>10881.703156</td>\n",
       "    </tr>\n",
       "    <tr>\n",
       "      <th>32693</th>\n",
       "      <td>7852</td>\n",
       "      <td>8194.713644</td>\n",
       "    </tr>\n",
       "    <tr>\n",
       "      <th>79957</th>\n",
       "      <td>2312</td>\n",
       "      <td>4573.958933</td>\n",
       "    </tr>\n",
       "    <tr>\n",
       "      <th>76365</th>\n",
       "      <td>9727</td>\n",
       "      <td>8425.864881</td>\n",
       "    </tr>\n",
       "    <tr>\n",
       "      <th>82342</th>\n",
       "      <td>6927</td>\n",
       "      <td>8903.981531</td>\n",
       "    </tr>\n",
       "  </tbody>\n",
       "</table>\n",
       "</div>"
      ],
      "text/plain": [
       "       Actual     Predicted\n",
       "49889   11989  10881.703156\n",
       "32693    7852   8194.713644\n",
       "79957    2312   4573.958933\n",
       "76365    9727   8425.864881\n",
       "82342    6927   8903.981531"
      ]
     },
     "execution_count": 78,
     "metadata": {},
     "output_type": "execute_result"
    }
   ],
   "source": [
    "df = pd.DataFrame({'Actual': y_test, 'Predicted': ridge_prediction})\n",
    "df.head()"
   ]
  },
  {
   "cell_type": "code",
   "execution_count": 81,
   "id": "d4e2d983",
   "metadata": {},
   "outputs": [
    {
     "name": "stdout",
     "output_type": "stream",
     "text": [
      "Mean Absolute Error: 3537.546043338728\n",
      "Mean Squared Error: 21426281.55873582\n",
      "Root Mean Squared Error: 4628.853158044206\n",
      "R-squared: 0.1354429711940558\n",
      "Variance inflation factor(VIF): 1.1566616968936319\n"
     ]
    }
   ],
   "source": [
    "print('Mean Absolute Error:', metrics.mean_absolute_error(y_test, ridge_prediction))\n",
    "print('Mean Squared Error:', metrics.mean_squared_error(y_test, ridge_prediction))\n",
    "print('Root Mean Squared Error:', np.sqrt(metrics.mean_squared_error(y_test, ridge_prediction)))\n",
    "print('R-squared:', r2_score(y_test,ridge_prediction))\n",
    "print('Variance inflation factor(VIF):', 1/(1-r2_score(y_test,ridge_prediction)))"
   ]
  },
  {
   "cell_type": "code",
   "execution_count": 85,
   "id": "d950b4b5",
   "metadata": {},
   "outputs": [
    {
     "name": "stdout",
     "output_type": "stream",
     "text": [
      "Accuracy:  13.544297119405579 %\n"
     ]
    }
   ],
   "source": [
    "accuracy = ridge.score(X_test,y_test)\n",
    "print('Accuracy: ',accuracy*100,'%')"
   ]
  },
  {
   "cell_type": "code",
   "execution_count": null,
   "id": "53d5f652",
   "metadata": {},
   "outputs": [],
   "source": []
  }
 ],
 "metadata": {
  "kernelspec": {
   "display_name": "Python 3 (ipykernel)",
   "language": "python",
   "name": "python3"
  },
  "language_info": {
   "codemirror_mode": {
    "name": "ipython",
    "version": 3
   },
   "file_extension": ".py",
   "mimetype": "text/x-python",
   "name": "python",
   "nbconvert_exporter": "python",
   "pygments_lexer": "ipython3",
   "version": "3.9.12"
  }
 },
 "nbformat": 4,
 "nbformat_minor": 5
}
